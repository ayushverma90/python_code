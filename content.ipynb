{
 "cells": [
  {
   "cell_type": "code",
   "execution_count": 2,
   "id": "45f40224-42dc-46a6-871a-32fb9d92871e",
   "metadata": {},
   "outputs": [],
   "source": [
    "import PyPDF2\n",
    "from langchain_groq import ChatGroq\n",
    "\n",
    "# Initialize the ChatGroq instance\n",
    "llm = ChatGroq(\n",
    "    model=\"mixtral-8x7b-32768\",\n",
    "    temperature=0.2,\n",
    "    groq_api_key=\"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\"\n",
    ")"
   ]
  },
  {
   "cell_type": "code",
   "execution_count": 3,
   "id": "96517db6-f3ca-43d9-b8f9-bad56f2e0290",
   "metadata": {},
   "outputs": [],
   "source": [
    "# Function to extract text from PDF\n",
    "def extract_text_from_pdf(pdf_path):\n",
    "    try:\n",
    "        with open(pdf_path, \"rb\") as file:\n",
    "            reader = PyPDF2.PdfReader(file)\n",
    "            text = \"\"\n",
    "            for page in reader.pages:\n",
    "                text += page.extract_text()\n",
    "        return text\n",
    "    except Exception as e:\n",
    "        print(f\"Error reading PDF: {e}\")\n",
    "        return \"\"\n"
   ]
  },
  {
   "cell_type": "code",
   "execution_count": 4,
   "id": "1efbb443-4cb0-4623-9fe9-189cc3dd6546",
   "metadata": {},
   "outputs": [],
   "source": [
    "# Function to query the content\n",
    "def query_pdf_content(pdf_content, query):\n",
    "    prompt = f\"\"\"\n",
    "    You are a PDF content assistant. The following text is extracted from a PDF document:\n",
    "    ---\n",
    "    {pdf_content}\n",
    "    ---\n",
    "    Answer the user's query based on the above content. If the answer is not found in the text, reply with 'No information exists.'\n",
    "    \n",
    "    Query: {query}\n",
    "    \"\"\"\n",
    "    response = llm.invoke(prompt, max_tokens=150)\n",
    "    return response.content.strip()  # Accessing the content attribute and applying strip()"
   ]
  },
  {
   "cell_type": "code",
   "execution_count": null,
   "id": "37faa4eb-72b8-427c-bd2d-275b5c6c5393",
   "metadata": {},
   "outputs": [
    {
     "name": "stdin",
     "output_type": "stream",
     "text": [
      "Ask your question (or type 'exit' to quit):  nested if\n"
     ]
    },
    {
     "name": "stdout",
     "output_type": "stream",
     "text": [
      "Response: A nested if statement represents the if block within another if block. Here, the inner if block condition executes only when the outer if block condition is true.\n",
      "\n",
      "Here's an example of a Java program that demonstrates the use of a nested if statement:\n",
      "\n",
      "```java\n",
      "public class JavaNestedIfExample {\n",
      "    public static void main(String[] args) {\n",
      "        //Creating two variables for age and weight\n",
      "        int age = 20;\n",
      "        int weight = 80;\n",
      "        //applying condition on age and weight\n",
      "        if(age >= 18) {\n",
      "            if(weight > 50) {\n",
      "                System .out.println (\"You\n"
     ]
    },
    {
     "name": "stdin",
     "output_type": "stream",
     "text": [
      "Ask your question (or type 'exit' to quit):  if condition defination\n"
     ]
    },
    {
     "name": "stdout",
     "output_type": "stream",
     "text": [
      "Response: The 'if' condition in Java is used to decide whether a block of code will execute or not, based on whether a certain condition is true or not. The syntax for an 'if' statement is:\n",
      "```csharp\n",
      "if(condition)\n",
      "{\n",
      "   //block of code will execute if the condition is true\n",
      "}\n",
      "```\n",
      "For example, the following code checks if the value of the variable 'age' is greater than 18. If it is, then the message \"Age is greater than 18\" will be printed.\n",
      "```csharp\n",
      "int age = 20;\n",
      "if(age > 18)\n",
      "{\n",
      "   System.out.println\n"
     ]
    }
   ],
   "source": [
    "# Main Execution\n",
    "pdf_path = \"Decision Making and Branching.pdf\"  # Replace with your PDF file path\n",
    "pdf_content = extract_text_from_pdf(pdf_path)\n",
    "\n",
    "if pdf_content:\n",
    "    while True:\n",
    "        user_query = input(\"Ask your question (or type 'exit' to quit): \")\n",
    "        if user_query.lower() == \"exit\":\n",
    "            break\n",
    "        response = query_pdf_content(pdf_content, user_query)\n",
    "        print(\"Response:\", response)\n",
    "else:\n",
    "    print(\"Could not extract content from the PDF.\")\n"
   ]
  },
  {
   "cell_type": "code",
   "execution_count": null,
   "id": "13888ba4-375a-4211-be16-00b597d8f854",
   "metadata": {},
   "outputs": [],
   "source": []
  }
 ],
 "metadata": {
  "kernelspec": {
   "display_name": "Python 3 (ipykernel)",
   "language": "python",
   "name": "python3"
  },
  "language_info": {
   "codemirror_mode": {
    "name": "ipython",
    "version": 3
   },
   "file_extension": ".py",
   "mimetype": "text/x-python",
   "name": "python",
   "nbconvert_exporter": "python",
   "pygments_lexer": "ipython3",
   "version": "3.9.13"
  }
 },
 "nbformat": 4,
 "nbformat_minor": 5
}
